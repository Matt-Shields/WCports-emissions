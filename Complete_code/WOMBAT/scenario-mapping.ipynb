{
 "cells": [
  {
   "cell_type": "code",
   "execution_count": 179,
   "id": "aaa1189b",
   "metadata": {},
   "outputs": [],
   "source": [
    "import os\n",
    "import pandas as pd\n",
    "import numpy as np\n",
    "\n",
    "from new_functions import get_data, group_activities, calc_emissions, efs\n",
    "\n",
    "output_file = 'WCports_results_23Mar.xlsx'\n",
    "scenarios = ['WCports_test_ctv6', 'WCports_test_ctv8', 'WCports_test_sov6']\n",
    "\n",
    "savedir = 'new/'\n",
    "\n",
    "## percent of transit time to bin as maneuvering\n",
    "perc_m = 0.1\n",
    "\n",
    "strategies = []\n",
    "ports_headers = []\n",
    "\n",
    "for s in scenarios:\n",
    "    times_df = get_data(s, output_file)\n",
    "    grouped_df, ports = group_activities(times_df, perc_m)\n",
    "    ports_headers += ports\n",
    "    emissions_df = calc_emissions(grouped_df, efs, ports)\n",
    "    strategies.append(emissions_df)\n",
    "\n",
    "    #filename = s + '_emissions.xlsx'\n",
    "    #savepath = savedir + filename\n",
    "    #emissions_df.to_excel(savepath)"
   ]
  },
  {
   "cell_type": "code",
   "execution_count": 180,
   "id": "a70aff8c",
   "metadata": {},
   "outputs": [],
   "source": [
    "activities = ['idle at port', 'idle at site', 'maneuvering', 'transit']\n",
    "adjusted = []\n",
    "\n",
    "for df in strategies:\n",
    "        \n",
    "    if 'ctv' in df.values:\n",
    "        df_copy = pd.DataFrame().reindex_like(df.head(4))\n",
    "        df_copy['Vessel'] = df_copy['Vessel'].fillna('sov')\n",
    "        df_copy['Activity'] = activities     \n",
    "    elif 'sov' in df.values:\n",
    "        df_copy = pd.DataFrame().reindex_like(df.head(4))\n",
    "        df_copy['Vessel'] = df_copy['Vessel'].fillna('ctv')\n",
    "        df_copy['Activity'] = activities\n",
    "    \n",
    "    df = pd.concat([df, df_copy], axis=0)\n",
    "    df.set_index(['Vessel', 'Activity'], drop=True, inplace=True)\n",
    "    df.fillna(0, inplace=True)\n",
    "    df.sort_index(ascending=True, inplace=True)\n",
    "    \n",
    "    for col in df:\n",
    "        if col in ports_headers:\n",
    "            df.drop(col, axis=1, inplace=True)\n",
    "            \n",
    "    df.drop('Emissions_factor', axis=1, inplace=True)\n",
    "    \n",
    "    adjusted.append(df)"
   ]
  },
  {
   "cell_type": "code",
   "execution_count": 181,
   "id": "8b131103",
   "metadata": {},
   "outputs": [],
   "source": [
    "df_0 = adjusted[0]\n",
    "df_1 = adjusted[1]\n",
    "df_2 = adjusted[2]"
   ]
  },
  {
   "cell_type": "code",
   "execution_count": 182,
   "id": "a11ad7c2",
   "metadata": {},
   "outputs": [],
   "source": [
    "for df, name in zip(adjusted, scenarios):\n",
    "    savepath = 'new/testers/' + name + '.xlsx'\n",
    "    df.to_excel(savepath)\n",
    "    \n",
    "joined_df = adjusted[0].join(adjusted[1:], lsuffix='_caller', rsuffix='_other')\n",
    "\n",
    "joined_df.to_excel('new/testers/joined_test.xlsx')"
   ]
  },
  {
   "cell_type": "code",
   "execution_count": 183,
   "id": "c283f6d3",
   "metadata": {},
   "outputs": [
    {
     "data": {
      "text/plain": [
       "['WCports_test_ctv6', 'WCports_test_ctv8', 'WCports_test_sov6']"
      ]
     },
     "execution_count": 183,
     "metadata": {},
     "output_type": "execute_result"
    }
   ],
   "source": [
    "scenarios"
   ]
  },
  {
   "cell_type": "code",
   "execution_count": null,
   "id": "5640dd38",
   "metadata": {},
   "outputs": [],
   "source": []
  }
 ],
 "metadata": {
  "kernelspec": {
   "display_name": "Python 3 (ipykernel)",
   "language": "python",
   "name": "python3"
  },
  "language_info": {
   "codemirror_mode": {
    "name": "ipython",
    "version": 3
   },
   "file_extension": ".py",
   "mimetype": "text/x-python",
   "name": "python",
   "nbconvert_exporter": "python",
   "pygments_lexer": "ipython3",
   "version": "3.9.13"
  }
 },
 "nbformat": 4,
 "nbformat_minor": 5
}
